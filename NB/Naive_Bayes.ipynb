{
 "cells": [
  {
   "attachments": {},
   "cell_type": "markdown",
   "metadata": {},
   "source": [
    "## Naive Bayes"
   ]
  },
  {
   "cell_type": "code",
   "execution_count": 1,
   "metadata": {},
   "outputs": [],
   "source": [
    "from sklearn.feature_extraction.text import CountVectorizer\n",
    "from sklearn.naive_bayes import MultinomialNB\n",
    "from sklearn.model_selection import train_test_split\n",
    "from sklearn.metrics import accuracy_score\n",
    "from nltk.tokenize import RegexpTokenizer\n",
    "import pandas as pd\n",
    "import random"
   ]
  },
  {
   "cell_type": "code",
   "execution_count": 2,
   "metadata": {},
   "outputs": [],
   "source": [
    "# read dataset\n",
    "df = pd.read_csv('phishing_site_urls.csv')\n",
    "urls = df['URL']\n",
    "labels = df['Label']\n",
    "\n",
    "label_mapping = {'good': 1, 'bad': 0}\n",
    "y = labels.map(label_mapping).values"
   ]
  },
  {
   "cell_type": "code",
   "execution_count": 3,
   "metadata": {},
   "outputs": [],
   "source": [
    "# preprocess data, tokenize and vectorize URLs\n",
    "tokenizer = RegexpTokenizer(r'\\w+')\n",
    "url_tokens = [' '.join(tokenizer.tokenize(url)) for url in urls]\n",
    "\n",
    "vectorizer = CountVectorizer()\n",
    "X = vectorizer.fit_transform(url_tokens)\n",
    "\n"
   ]
  },
  {
   "cell_type": "code",
   "execution_count": 6,
   "metadata": {},
   "outputs": [
    {
     "name": "stdout",
     "output_type": "stream",
     "text": [
      "NB Accuracy: 0.97\n",
      "NB Accuracy: 0.96\n",
      "NB Accuracy: 0.96\n",
      "NB Accuracy: 0.96\n",
      "NB Accuracy: 0.96\n",
      "NB Accuracy: 0.96\n",
      "NB Accuracy: 0.96\n",
      "NB Accuracy: 0.96\n",
      "NB Accuracy: 0.96\n",
      "NB Accuracy: 0.96\n",
      "NB Accuracy: 0.96\n",
      "NB Accuracy: 0.97\n",
      "NB Accuracy: 0.96\n",
      "NB Accuracy: 0.96\n",
      "NB Accuracy: 0.96\n"
     ]
    }
   ],
   "source": [
    "#train NB classifier\n",
    "accuracies = []\n",
    "for i in range(15):\n",
    "    X_train, X_test, y_train, y_test = train_test_split(X, y, test_size=0.2, random_state=random.randint(0, 1000))\n",
    "\n",
    "    clf = MultinomialNB()\n",
    "    clf.fit(X_train, y_train)\n",
    "    y_pred = clf.predict(X_test)\n",
    "    accuracy = accuracy_score(y_test, y_pred)\n",
    "    accuracies.append(accuracy)\n",
    "    print(f\"NB Accuracy: {accuracy:.2f}\")\n",
    "\n",
    "df = pd.DataFrame({'nb': accuracies})\n",
    "df.to_csv('NB_results.csv', index=False)\n"
   ]
  },
  {
   "cell_type": "code",
   "execution_count": null,
   "metadata": {},
   "outputs": [],
   "source": []
  }
 ],
 "metadata": {
  "kernelspec": {
   "display_name": "Python 3",
   "language": "python",
   "name": "python3"
  },
  "language_info": {
   "codemirror_mode": {
    "name": "ipython",
    "version": 3
   },
   "file_extension": ".py",
   "mimetype": "text/x-python",
   "name": "python",
   "nbconvert_exporter": "python",
   "pygments_lexer": "ipython3",
   "version": "3.8.8"
  },
  "orig_nbformat": 4
 },
 "nbformat": 4,
 "nbformat_minor": 2
}
