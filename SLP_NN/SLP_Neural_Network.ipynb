{
 "cells": [
  {
   "attachments": {},
   "cell_type": "markdown",
   "metadata": {},
   "source": [
    "### Single Layer Perceptron Neural Network"
   ]
  },
  {
   "cell_type": "code",
   "execution_count": 3,
   "metadata": {},
   "outputs": [],
   "source": [
    "import pandas as pd\n",
    "import numpy as np\n",
    "from sklearn.model_selection import train_test_split\n",
    "from sklearn.preprocessing import StandardScaler\n",
    "from sklearn.metrics import classification_report, roc_auc_score\n",
    "\n",
    "from tensorflow.keras.models import Sequential\n",
    "from tensorflow.keras.layers import Dense\n",
    "from tensorflow.keras.optimizers import Adam\n"
   ]
  },
  {
   "cell_type": "code",
   "execution_count": 4,
   "metadata": {},
   "outputs": [
    {
     "name": "stdout",
     "output_type": "stream",
     "text": [
      "                                                 URL  Label\n",
      "0  nobell.it/70ffb52d079109dca5664cce6f317373782/...      1\n",
      "1  www.dghjdgf.com/paypal.co.uk/cycgi-bin/webscrc...      1\n",
      "2  serviciosbys.com/paypal.cgi.bin.get-into.herf....      1\n",
      "3  mail.printakid.com/www.online.americanexpress....      1\n",
      "4  thewhiskeydregs.com/wp-content/themes/widescre...      1\n",
      "<class 'pandas.core.frame.DataFrame'>\n",
      "RangeIndex: 549346 entries, 0 to 549345\n",
      "Data columns (total 2 columns):\n",
      " #   Column  Non-Null Count   Dtype \n",
      "---  ------  --------------   ----- \n",
      " 0   URL     549346 non-null  object\n",
      " 1   Label   549346 non-null  int64 \n",
      "dtypes: int64(1), object(1)\n",
      "memory usage: 8.4+ MB\n",
      "None\n"
     ]
    }
   ],
   "source": [
    "# Load the dataset\n",
    "data = pd.read_csv('phishing_site_urls.csv')\n",
    "\n",
    "# Map labels to binary values (good = 0, bad = 1)\n",
    "data['Label'] = data['Label'].map({'good': 0, 'bad': 1})\n",
    "\n",
    "# Inspect the data\n",
    "print(data.head())\n",
    "print(data.info())\n"
   ]
  },
  {
   "cell_type": "code",
   "execution_count": 5,
   "metadata": {},
   "outputs": [],
   "source": [
    "# Feature engineering\n",
    "data['url_length'] = data['URL'].apply(len)\n",
    "data['contains_https'] = data['URL'].apply(lambda x: 1 if 'https' in x else 0)\n",
    "data['num_special_chars'] = data['URL'].apply(lambda x: sum([1 for char in x if char in '!@#$%^&*()']))\n",
    "\n",
    "# Define features and target\n",
    "features = ['url_length', 'contains_https', 'num_special_chars']\n",
    "X = data[features]\n",
    "y = data['Label']\n",
    "\n",
    "# Split the dataset into training and testing sets\n",
    "X_train, X_test, y_train, y_test = train_test_split(X, y, test_size=0.2, random_state=42, stratify=y)\n",
    "\n",
    "# Standardize the features\n",
    "scaler = StandardScaler()\n",
    "X_train = scaler.fit_transform(X_train)\n",
    "X_test = scaler.transform(X_test)\n"
   ]
  },
  {
   "cell_type": "code",
   "execution_count": 6,
   "metadata": {},
   "outputs": [],
   "source": [
    "# Define the single-layer perceptron\n",
    "model = Sequential()\n",
    "model.add(Dense(1, input_dim=X_train.shape[1], activation='sigmoid'))  # Output layer with sigmoid activation\n",
    "\n",
    "# Compile the model\n",
    "model.compile(optimizer=Adam(learning_rate=0.05), \n",
    "              loss='binary_crossentropy', \n",
    "              metrics=['accuracy'])\n"
   ]
  },
  {
   "cell_type": "code",
   "execution_count": 8,
   "metadata": {},
   "outputs": [
    {
     "name": "stdout",
     "output_type": "stream",
     "text": [
      "Epoch 1/10\n",
      "13734/13734 [==============================] - 24s 2ms/step - loss: 0.5830 - accuracy: 0.7340 - val_loss: 0.5902 - val_accuracy: 0.7289\n",
      "Epoch 2/10\n",
      "13734/13734 [==============================] - 25s 2ms/step - loss: 0.5831 - accuracy: 0.7339 - val_loss: 0.5806 - val_accuracy: 0.7321\n",
      "Epoch 3/10\n",
      "13734/13734 [==============================] - 30s 2ms/step - loss: 0.5830 - accuracy: 0.7338 - val_loss: 0.5829 - val_accuracy: 0.7249\n",
      "Epoch 4/10\n",
      "13734/13734 [==============================] - 29s 2ms/step - loss: 0.5830 - accuracy: 0.7339 - val_loss: 0.5829 - val_accuracy: 0.7362\n",
      "Epoch 5/10\n",
      "13734/13734 [==============================] - 25s 2ms/step - loss: 0.5833 - accuracy: 0.7338 - val_loss: 0.5810 - val_accuracy: 0.7312\n",
      "Epoch 6/10\n",
      "13734/13734 [==============================] - 29s 2ms/step - loss: 0.5831 - accuracy: 0.7338 - val_loss: 0.5810 - val_accuracy: 0.7370\n",
      "Epoch 7/10\n",
      "13734/13734 [==============================] - 27s 2ms/step - loss: 0.5830 - accuracy: 0.7339 - val_loss: 0.5830 - val_accuracy: 0.7251\n",
      "Epoch 8/10\n",
      "13734/13734 [==============================] - 27s 2ms/step - loss: 0.5829 - accuracy: 0.7337 - val_loss: 0.5820 - val_accuracy: 0.7367\n",
      "Epoch 9/10\n",
      "13734/13734 [==============================] - 26s 2ms/step - loss: 0.5832 - accuracy: 0.7338 - val_loss: 0.5805 - val_accuracy: 0.7362\n",
      "Epoch 10/10\n",
      "13734/13734 [==============================] - 29s 2ms/step - loss: 0.5831 - accuracy: 0.7338 - val_loss: 0.5797 - val_accuracy: 0.7355\n"
     ]
    }
   ],
   "source": [
    "# Train the model\n",
    "history = model.fit(X_train, y_train, \n",
    "                    epochs=10,        # Number of epochs\n",
    "                    batch_size=32,    # Mini-batch size\n",
    "                    validation_data=(X_test, y_test),\n",
    "                    verbose=1)\n",
    "\n"
   ]
  },
  {
   "cell_type": "code",
   "execution_count": 9,
   "metadata": {},
   "outputs": [
    {
     "name": "stdout",
     "output_type": "stream",
     "text": [
      "Test Accuracy: 0.7355\n",
      "3434/3434 [==============================] - 5s 1ms/step\n",
      "\n",
      "Classification Report:\n",
      "              precision    recall  f1-score   support\n",
      "\n",
      "           0       0.73      0.99      0.84     78585\n",
      "           1       0.85      0.09      0.16     31285\n",
      "\n",
      "    accuracy                           0.74    109870\n",
      "   macro avg       0.79      0.54      0.50    109870\n",
      "weighted avg       0.77      0.74      0.65    109870\n",
      "\n",
      "ROC AUC: 0.5199\n"
     ]
    }
   ],
   "source": [
    "# Evaluate the model\n",
    "loss, accuracy = model.evaluate(X_test, y_test, verbose=0)\n",
    "print(f\"Test Accuracy: {accuracy:.4f}\")\n",
    "\n",
    "# Predict on the test set\n",
    "y_pred_proba = model.predict(X_test)\n",
    "y_pred = (y_pred_proba > 0.5).astype(int)\n",
    "\n",
    "# Classification report\n",
    "print(\"\\nClassification Report:\")\n",
    "print(classification_report(y_test, y_pred))\n",
    "\n",
    "# ROC AUC score\n",
    "roc_auc = roc_auc_score(y_test, y_pred_proba)\n",
    "print(f\"ROC AUC: {roc_auc:.4f}\")\n",
    "\n"
   ]
  },
  {
   "cell_type": "code",
   "execution_count": 10,
   "metadata": {},
   "outputs": [
    {
     "data": {
      "image/png": "[encoded data removed]",
      "text/plain": [
       "<Figure size 432x288 with 1 Axes>"
      ]
     },
     "metadata": {
      "needs_background": "light"
     },
     "output_type": "display_data"
    },
    {
     "data": {
      "image/png": "[encoded data removed]",
      "text/plain": [
       "<Figure size 432x288 with 1 Axes>"
      ]
     },
     "metadata": {
      "needs_background": "light"
     },
     "output_type": "display_data"
    }
   ],
   "source": [
    "import matplotlib.pyplot as plt\n",
    "\n",
    "# Plot accuracy\n",
    "plt.plot(history.history['accuracy'], label='Train Accuracy')\n",
    "plt.plot(history.history['val_accuracy'], label='Validation Accuracy')\n",
    "plt.xlabel('Epochs')\n",
    "plt.ylabel('Accuracy')\n",
    "plt.legend()\n",
    "plt.title('Training and Validation Accuracy')\n",
    "plt.show()\n",
    "\n",
    "# Plot loss\n",
    "plt.plot(history.history['loss'], label='Train Loss')\n",
    "plt.plot(history.history['val_loss'], label='Validation Loss')\n",
    "plt.xlabel('Epochs')\n",
    "plt.ylabel('Loss')\n",
    "plt.legend()\n",
    "plt.title('Training and Validation Loss')\n",
    "plt.show()\n",
    "\n"
   ]
  },
  {
   "cell_type": "code",
   "execution_count": 11,
   "metadata": {},
   "outputs": [
    {
     "name": "stdout",
     "output_type": "stream",
     "text": [
      "1/1 [==============================] - 0s 33ms/step\n",
      "The URL 'http://suspicious-site.xyz/login' is classified as: GOOD\n"
     ]
    }
   ],
   "source": [
    "def preprocess_url(url):\n",
    "    url_length = len(url)\n",
    "    contains_https = 1 if 'https' in url else 0\n",
    "    num_special_chars = sum([1 for char in url if char in '!@#$%^&*()'])\n",
    "    return scaler.transform([[url_length, contains_https, num_special_chars]])\n",
    "\n",
    "test_url = \"http://suspicious-site.xyz/login\"\n",
    "test_features = preprocess_url(test_url)\n",
    "prediction = model.predict(test_features)\n",
    "print(f\"The URL '{test_url}' is classified as: {'BAD' if prediction[0][0] > 0.5 else 'GOOD'}\")\n"
   ]
  },
  {
   "cell_type": "code",
   "execution_count": null,
   "metadata": {},
   "outputs": [],
   "source": []
  }
 ],
 "metadata": {
  "kernelspec": {
   "display_name": "base",
   "language": "python",
   "name": "python3"
  },
  "language_info": {
   "codemirror_mode": {
    "name": "ipython",
    "version": 3
   },
   "file_extension": ".py",
   "mimetype": "text/x-python",
   "name": "python",
   "nbconvert_exporter": "python",
   "pygments_lexer": "ipython3",
   "version": "3.8.8"
  },
  "orig_nbformat": 4
 },
 "nbformat": 4,
 "nbformat_minor": 2
}
