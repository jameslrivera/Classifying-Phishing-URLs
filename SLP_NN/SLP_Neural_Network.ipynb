{
 "cells": [
  {
   "attachments": {},
   "cell_type": "markdown",
   "metadata": {},
   "source": [
    "### Single Layer Perceptron Neural Network"
   ]
  },
  {
   "attachments": {},
   "cell_type": "markdown",
   "metadata": {},
   "source": [
    "### Import Libraries and data set"
   ]
  },
  {
   "cell_type": "code",
   "execution_count": 1,
   "metadata": {},
   "outputs": [],
   "source": [
    "from sklearn.feature_extraction.text import CountVectorizer\n",
    "from sklearn.model_selection import train_test_split\n",
    "from sklearn.metrics import accuracy_score, roc_auc_score, f1_score\n",
    "from nltk.tokenize import RegexpTokenizer\n",
    "from tensorflow.keras.models import Sequential\n",
    "from tensorflow.keras.layers import Dense\n",
    "from tensorflow.keras.optimizers import Adam\n",
    "import pandas as pd\n",
    "import numpy as np\n",
    "import random\n",
    "\n",
    "# Read dataset\n",
    "df = pd.read_csv('phishing_site_urls.csv')\n",
    "urls = df['URL']\n",
    "labels = df['Label']"
   ]
  },
  {
   "attachments": {},
   "cell_type": "markdown",
   "metadata": {},
   "source": [
    "### Preprocess data"
   ]
  },
  {
   "cell_type": "code",
   "execution_count": 5,
   "metadata": {},
   "outputs": [],
   "source": [
    "# Map labels to binary values\n",
    "label_mapping = {'good': 1, 'bad': 0}\n",
    "y = labels.map(label_mapping).values\n",
    "\n",
    "# Tokenize URLs\n",
    "tokenizer = RegexpTokenizer(r'\\w+')\n",
    "url_tokens = [' '.join(tokenizer.tokenize(url)) for url in urls]\n",
    "\n",
    "# Vectorize with reduced feature space\n",
    "vectorizer = CountVectorizer(max_features=5000, min_df=5)  # Limit to top 5000 tokens, min 5 occurrences\n",
    "X = vectorizer.fit_transform(url_tokens).toarray()\n"
   ]
  },
  {
   "attachments": {},
   "cell_type": "markdown",
   "metadata": {},
   "source": [
    "### Split, train, and test"
   ]
  },
  {
   "cell_type": "code",
   "execution_count": 6,
   "metadata": {},
   "outputs": [
    {
     "name": "stdout",
     "output_type": "stream",
     "text": [
      "3434/3434 [==============================] - 12s 3ms/step\n",
      "Iteration 1: Accuracy = 0.9336, ROC AUC = 0.9798, F1 = 0.9541\n",
      "3434/3434 [==============================] - 15s 4ms/step\n",
      "Iteration 2: Accuracy = 0.9359, ROC AUC = 0.9802, F1 = 0.9561\n",
      "3434/3434 [==============================] - 14s 4ms/step\n",
      "Iteration 3: Accuracy = 0.9345, ROC AUC = 0.9790, F1 = 0.9553\n",
      "3434/3434 [==============================] - 13s 4ms/step\n",
      "Iteration 4: Accuracy = 0.9364, ROC AUC = 0.9800, F1 = 0.9568\n",
      "3434/3434 [==============================] - 14s 4ms/step\n",
      "Iteration 5: Accuracy = 0.9361, ROC AUC = 0.9797, F1 = 0.9561\n",
      "3434/3434 [==============================] - 11s 3ms/step\n",
      "Iteration 6: Accuracy = 0.9340, ROC AUC = 0.9787, F1 = 0.9548\n"
     ]
    },
    {
     "ename": "",
     "evalue": "",
     "output_type": "error",
     "traceback": [
      "\u001b[1;31mCanceled future for execute_request message before replies were done"
     ]
    },
    {
     "ename": "",
     "evalue": "",
     "output_type": "error",
     "traceback": [
      "\u001b[1;31mThe Kernel crashed while executing code in the the current cell or a previous cell. Please review the code in the cell(s) to identify a possible cause of the failure. Click <a href='https://aka.ms/vscodeJupyterKernelCrash'>here</a> for more info. View Jupyter <a href='command:jupyter.viewOutput'>log</a> for further details."
     ]
    }
   ],
   "source": [
    "# Lists to store metrics\n",
    "accuracies = []\n",
    "roc_auc_scores = []\n",
    "f1_scores = []\n",
    "\n",
    "# Define the SLP model structure\n",
    "def create_slp_model(input_dim):\n",
    "    model = Sequential()\n",
    "    model.add(Dense(1, input_dim=input_dim, activation='sigmoid'))\n",
    "    model.compile(optimizer=Adam(learning_rate=0.02), loss='binary_crossentropy', metrics=['accuracy'])\n",
    "    return model\n",
    "\n",
    "# Train and evaluate 15 SLP models\n",
    "for i in range(15):\n",
    "    # Split data into training and testing sets\n",
    "    X_train, X_test, y_train, y_test = train_test_split(\n",
    "        X, y, test_size=0.2, random_state=random.randint(0, 1000)\n",
    "    )\n",
    "    \n",
    "    # Create and train the SLP model\n",
    "    model = create_slp_model(X_train.shape[1])\n",
    "    model.fit(X_train, y_train, epochs=3, batch_size=16, verbose=0)  # Reduced epochs and batch size\n",
    "    \n",
    "    # Predict on the test set\n",
    "    y_pred_proba = model.predict(X_test).flatten()  # Flatten for ROC AUC\n",
    "    y_pred = (y_pred_proba > 0.5).astype(int)  # Threshold to convert probabilities to binary\n",
    "    \n",
    "    # Calculate metrics\n",
    "    accuracy = accuracy_score(y_test, y_pred)\n",
    "    roc_auc = roc_auc_score(y_test, y_pred_proba)\n",
    "    f1 = f1_score(y_test, y_pred)\n",
    "    \n",
    "    # Append metrics to lists\n",
    "    accuracies.append(accuracy)\n",
    "    roc_auc_scores.append(roc_auc)\n",
    "    f1_scores.append(f1)\n",
    "    \n",
    "    print(f\"Iteration {i+1}: Accuracy = {accuracy:.4f}, ROC AUC = {roc_auc:.4f}, F1 = {f1:.4f}\")\n"
   ]
  },
  {
   "attachments": {},
   "cell_type": "markdown",
   "metadata": {},
   "source": [
    "### Saving metrics"
   ]
  },
  {
   "cell_type": "code",
   "execution_count": null,
   "metadata": {},
   "outputs": [],
   "source": [
    "# Save metrics to separate CSV files\n",
    "pd.DataFrame({'accuracy': accuracies}).to_csv('SLP_accuracies.csv', index=False)\n",
    "pd.DataFrame({'roc_auc': roc_auc_scores}).to_csv('SLP_roc_auc.csv', index=False)\n",
    "pd.DataFrame({'f1_score': f1_scores}).to_csv('SLP_f1_scores.csv', index=False)\n",
    "\n",
    "print(\"\\nMetrics saved to 'SLP_accuracies.csv', 'SLP_roc_auc.csv', and 'SLP_f1_scores.csv'\")"
   ]
  }
 ],
 "metadata": {
  "kernelspec": {
   "display_name": "base",
   "language": "python",
   "name": "python3"
  },
  "language_info": {
   "codemirror_mode": {
    "name": "ipython",
    "version": 3
   },
   "file_extension": ".py",
   "mimetype": "text/x-python",
   "name": "python",
   "nbconvert_exporter": "python",
   "pygments_lexer": "ipython3",
   "version": "3.8.8"
  },
  "orig_nbformat": 4
 },
 "nbformat": 4,
 "nbformat_minor": 2
}
