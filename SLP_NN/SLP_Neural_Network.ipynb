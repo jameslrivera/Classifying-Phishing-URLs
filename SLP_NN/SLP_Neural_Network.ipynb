{
 "cells": [
  {
   "attachments": {},
   "cell_type": "markdown",
   "metadata": {},
   "source": [
    "### Single Layer Perceptron Neural Network"
   ]
  },
  {
   "attachments": {},
   "cell_type": "markdown",
   "metadata": {},
   "source": [
    "### Import Libraries and data set"
   ]
  },
  {
   "cell_type": "code",
   "execution_count": 1,
   "metadata": {},
   "outputs": [],
   "source": [
    "from sklearn.feature_extraction.text import CountVectorizer\n",
    "from sklearn.model_selection import train_test_split\n",
    "from sklearn.metrics import accuracy_score, roc_auc_score, f1_score\n",
    "from nltk.tokenize import RegexpTokenizer\n",
    "from tensorflow.keras.models import Sequential\n",
    "from tensorflow.keras.layers import Dense\n",
    "from tensorflow.keras.optimizers import Adam\n",
    "import pandas as pd\n",
    "import numpy as np\n",
    "import random\n",
    "import gc\n",
    "\n",
    "# Read dataset\n",
    "df = pd.read_csv('phishing_site_urls.csv')\n",
    "urls = df['URL']\n",
    "labels = df['Label']"
   ]
  },
  {
   "attachments": {},
   "cell_type": "markdown",
   "metadata": {},
   "source": [
    "### Preprocess data"
   ]
  },
  {
   "cell_type": "code",
   "execution_count": 2,
   "metadata": {},
   "outputs": [
    {
     "name": "stdout",
     "output_type": "stream",
     "text": [
      "Number of samples: 549346\n",
      "Number of features: 5000\n",
      "Sparsity: 0.0009\n"
     ]
    }
   ],
   "source": [
    "# Map labels to binary values\n",
    "label_mapping = {'good': 1, 'bad': 0}\n",
    "y = labels.map(label_mapping).values\n",
    "\n",
    "# Tokenize URLs\n",
    "tokenizer = RegexpTokenizer(r'\\w+')\n",
    "url_tokens = [' '.join(tokenizer.tokenize(url)) for url in urls]\n",
    "\n",
    "# Vectorize with reduced feature space\n",
    "# Tokenize and vectorize URLs\n",
    "vectorizer = CountVectorizer(max_features=5000, min_df=5)  # Limit features and filter rare tokens\n",
    "X = vectorizer.fit_transform(url_tokens)  # Keep X as a sparse matrix\n",
    "\n",
    "# Check feature space and sparsity\n",
    "print(f\"Number of samples: {X.shape[0]}\")  # Rows (URLs)\n",
    "print(f\"Number of features: {X.shape[1]}\")  # Columns (tokens)\n",
    "print(f\"Sparsity: {X.nnz / (X.shape[0] * X.shape[1]):.4f}\")  # Percentage of non-zero values\n",
    "\n"
   ]
  },
  {
   "attachments": {},
   "cell_type": "markdown",
   "metadata": {},
   "source": [
    "### Split, train, and test"
   ]
  },
  {
   "cell_type": "code",
   "execution_count": 3,
   "metadata": {},
   "outputs": [
    {
     "name": "stdout",
     "output_type": "stream",
     "text": [
      "3434/3434 [==============================] - 11s 3ms/step\n",
      "Iteration 1: Accuracy = 0.9355, ROC AUC = 0.9796, F1 = 0.9559\n",
      "3434/3434 [==============================] - 10s 3ms/step\n",
      "Iteration 2: Accuracy = 0.9350, ROC AUC = 0.9793, F1 = 0.9555\n",
      "3434/3434 [==============================] - 12s 4ms/step\n",
      "Iteration 3: Accuracy = 0.9363, ROC AUC = 0.9793, F1 = 0.9566\n",
      "3434/3434 [==============================] - 13s 4ms/step\n",
      "Iteration 4: Accuracy = 0.9350, ROC AUC = 0.9799, F1 = 0.9556\n",
      "3434/3434 [==============================] - 11s 3ms/step\n",
      "Iteration 5: Accuracy = 0.9345, ROC AUC = 0.9795, F1 = 0.9552\n",
      "3434/3434 [==============================] - 13s 4ms/step\n",
      "Iteration 6: Accuracy = 0.9338, ROC AUC = 0.9789, F1 = 0.9544\n",
      "3434/3434 [==============================] - 11s 3ms/step\n",
      "Iteration 7: Accuracy = 0.9347, ROC AUC = 0.9794, F1 = 0.9554\n",
      "3434/3434 [==============================] - 15s 4ms/step\n",
      "Iteration 8: Accuracy = 0.9336, ROC AUC = 0.9791, F1 = 0.9543\n",
      "3434/3434 [==============================] - 13s 4ms/step\n",
      "Iteration 9: Accuracy = 0.9355, ROC AUC = 0.9799, F1 = 0.9555\n",
      "3434/3434 [==============================] - 13s 4ms/step\n",
      "Iteration 10: Accuracy = 0.9337, ROC AUC = 0.9794, F1 = 0.9544\n",
      "3434/3434 [==============================] - 14s 4ms/step\n",
      "Iteration 11: Accuracy = 0.9353, ROC AUC = 0.9797, F1 = 0.9556\n",
      "3434/3434 [==============================] - 13s 4ms/step\n",
      "Iteration 12: Accuracy = 0.9352, ROC AUC = 0.9793, F1 = 0.9557\n",
      "3434/3434 [==============================] - 15s 4ms/step\n",
      "Iteration 13: Accuracy = 0.9352, ROC AUC = 0.9794, F1 = 0.9557\n",
      "3434/3434 [==============================] - 12s 3ms/step\n",
      "Iteration 14: Accuracy = 0.9352, ROC AUC = 0.9793, F1 = 0.9558\n",
      "3434/3434 [==============================] - 13s 4ms/step\n",
      "Iteration 15: Accuracy = 0.9358, ROC AUC = 0.9797, F1 = 0.9562\n",
      "\n",
      "Final Metrics saved to 'SLP_intermediate_results.csv'\n"
     ]
    }
   ],
   "source": [
    "# Lists to store metrics\n",
    "accuracies = []\n",
    "roc_auc_scores = []\n",
    "f1_scores = []\n",
    "\n",
    "# Define the SLP model structure\n",
    "def create_slp_model(input_dim):\n",
    "    model = Sequential()\n",
    "    model.add(Dense(1, input_dim=input_dim, activation='sigmoid'))\n",
    "    model.compile(optimizer=Adam(learning_rate=0.02), loss='binary_crossentropy', metrics=['accuracy'])\n",
    "    return model\n",
    "\n",
    "# Train and evaluate SLP models with sparse-to-dense conversion\n",
    "for i in range(15):\n",
    "    # Split data into training and testing sets\n",
    "    X_train, X_test, y_train, y_test = train_test_split(\n",
    "        X, y, test_size=0.2, random_state=random.randint(0, 1000)\n",
    "    )\n",
    "    \n",
    "    # Convert sparse matrices to dense arrays\n",
    "    X_train = X_train.toarray()\n",
    "    X_test = X_test.toarray()\n",
    "    \n",
    "    # Create and train the SLP model\n",
    "    model = create_slp_model(X_train.shape[1])\n",
    "    model.fit(X_train, y_train, epochs=3, batch_size=16, verbose=0)\n",
    "    \n",
    "    # Predict on the test set\n",
    "    y_pred_proba = model.predict(X_test).flatten()  # Flatten for ROC AUC\n",
    "    y_pred = (y_pred_proba > 0.5).astype(int)  # Threshold to convert probabilities to binary\n",
    "    \n",
    "    # Calculate metrics\n",
    "    accuracy = accuracy_score(y_test, y_pred)\n",
    "    roc_auc = roc_auc_score(y_test, y_pred_proba)\n",
    "    f1 = f1_score(y_test, y_pred)\n",
    "    \n",
    "    # Append metrics to lists\n",
    "    accuracies.append(accuracy)\n",
    "    roc_auc_scores.append(roc_auc)\n",
    "    f1_scores.append(f1)\n",
    "    \n",
    "    print(f\"Iteration {i+1}: Accuracy = {accuracy:.4f}, ROC AUC = {roc_auc:.4f}, F1 = {f1:.4f}\")\n",
    "    \n",
    "    # Save intermediate results\n",
    "    results = pd.DataFrame({'accuracy': accuracies, 'roc_auc': roc_auc_scores, 'f1_score': f1_scores})\n",
    "    results.to_csv('SLP_intermediate_results.csv', index=False)\n",
    "    \n",
    "    # Free up memory\n",
    "    del X_train, X_test, y_train, y_test, model\n",
    "    gc.collect()\n",
    "\n",
    "print(\"\\nFinal Metrics saved to 'SLP_intermediate_results.csv'\")"
   ]
  }
 ],
 "metadata": {
  "kernelspec": {
   "display_name": "base",
   "language": "python",
   "name": "python3"
  },
  "language_info": {
   "codemirror_mode": {
    "name": "ipython",
    "version": 3
   },
   "file_extension": ".py",
   "mimetype": "text/x-python",
   "name": "python",
   "nbconvert_exporter": "python",
   "pygments_lexer": "ipython3",
   "version": "3.8.8"
  },
  "orig_nbformat": 4
 },
 "nbformat": 4,
 "nbformat_minor": 2
}
