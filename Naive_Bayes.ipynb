{
 "cells": [
  {
   "attachments": {},
   "cell_type": "markdown",
   "metadata": {},
   "source": [
    "## Naive Bayes"
   ]
  },
  {
   "attachments": {},
   "cell_type": "markdown",
   "metadata": {},
   "source": [
    "### Importing libraries"
   ]
  },
  {
   "cell_type": "code",
   "execution_count": null,
   "metadata": {},
   "outputs": [],
   "source": [
    "import os\n",
    "import pandas as pd\n",
    "import numpy as np\n",
    "from sklearn.model_selection import train_test_split\n",
    "from sklearn.preprocessing import StandardScaler\n",
    "from sklearn.metrics import accuracy_score, roc_auc_score, f1_score\n",
    "from sklearn.naive_bayes import GaussianNB\n",
    "import random"
   ]
  },
  {
   "attachments": {},
   "cell_type": "markdown",
   "metadata": {},
   "source": [
    "### Preprocessing the data"
   ]
  },
  {
   "cell_type": "code",
   "execution_count": null,
   "metadata": {},
   "outputs": [],
   "source": [
    "# Loading the phishing dataset\n",
    "df = pd.read_csv('phishing_site_urls.csv')\n",
    "urls = df['URL']\n",
    "labels = df['Label']\n",
    "\n",
    "label_mapping = {'good': 0, 'bad': 1}\n",
    "y = labels.map(label_mapping).values\n",
    "\n",
    "# Extracting selected URL features\n",
    "def extract_features(url):\n",
    "    features = {}\n",
    "    features['https'] = 1 if 'https' in url else 0\n",
    "    features['url_length'] = len(url)\n",
    "    features['special_char_length'] = sum(1 for char in url if char in '!@#$%^&*()-=')\n",
    "    features['num_dots'] = url.count('.')\n",
    "    features['num_slashes'] = url.count('/')\n",
    "    features['total_special_chars'] = sum(url.count(char) for char in '!@#$%^&*()-=')\n",
    "    features['common_domain'] = 1 if any(domain in url for domain in ['.com', '.org', '.net', '.me']) else 0\n",
    "    features['is_other_domain'] = 1 if not features['common_domain'] else 0\n",
    "    return features\n",
    "\n",
    "features_df = pd.DataFrame([extract_features(url) for url in urls])\n",
    "\n",
    "features_df['domain'] = urls.apply(lambda x: x.split('.')[-1]) \n",
    "features_df['feat1'] = features_df.groupby('domain')['url_length'].transform('mean')\n",
    "features_df['feat2'] = features_df['url_length'] - features_df['feat1']\n",
    "\n",
    "X = features_df[['https', 'url_length', 'special_char_length', 'num_dots', 'num_slashes', \n",
    "                 'total_special_chars', 'common_domain', 'is_other_domain', 'feat1', 'feat2']]\n",
    "\n",
    "# Scaling features\n",
    "scaler = StandardScaler()\n",
    "X_scaled = scaler.fit_transform(X)\n"
   ]
  },
  {
   "attachments": {},
   "cell_type": "markdown",
   "metadata": {},
   "source": [
    "### Splitting, training, & testing"
   ]
  },
  {
   "cell_type": "code",
   "execution_count": null,
   "metadata": {},
   "outputs": [],
   "source": [
    "accuracies = []\n",
    "roc_auc_scores = []\n",
    "f1_scores = []\n",
    "\n",
    "# Training 15 models \n",
    "for i in range(15):\n",
    "    X_train, X_test, y_train, y_test = train_test_split(\n",
    "        X_scaled, y, test_size=0.2, random_state=random.randint(0, 1000)\n",
    "    ) # new test and train split for each model\n",
    "    \n",
    "    nb_model = GaussianNB()\n",
    "    nb_model.fit(X_train, y_train)\n",
    "    \n",
    "    y_pred = nb_model.predict(X_test)\n",
    "    y_pred_proba = nb_model.predict_proba(X_test)[:, 1]\n",
    "    \n",
    "    # Calculate scores\n",
    "    accuracy = accuracy_score(y_test, y_pred)\n",
    "    roc_auc = roc_auc_score(y_test, y_pred_proba)\n",
    "    f1 = f1_score(y_test, y_pred)\n",
    "    \n",
    "    accuracies.append(accuracy)\n",
    "    roc_auc_scores.append(roc_auc)\n",
    "    f1_scores.append(f1)\n",
    "    \n",
    "    print(f\"Iteration {i+1}: Accuracy = {accuracy:.4f}, ROC AUC = {roc_auc:.4f}, F1 = {f1:.4f}\")"
   ]
  },
  {
   "attachments": {},
   "cell_type": "markdown",
   "metadata": {},
   "source": [
    "### Saving metrics"
   ]
  },
  {
   "cell_type": "code",
   "execution_count": null,
   "metadata": {},
   "outputs": [],
   "source": [
    "results_df = pd.DataFrame({\n",
    "    'nb_accuracy': accuracies,\n",
    "    'nb_roc_auc': roc_auc_scores,\n",
    "    'nb_f1_score': f1_scores\n",
    "})\n",
    "\n",
    "# Save to final results .csv file\n",
    "if os.path.exists('results.csv'):\n",
    "    existing_results = pd.read_csv('results.csv')\n",
    "    combined_results = pd.concat([existing_results, results_df.reset_index(drop=True)], axis=1)\n",
    "else:\n",
    "    combined_results = results_df\n",
    "\n",
    "\n",
    "combined_results.to_csv('results.csv', index=False)"
   ]
  }
 ],
 "metadata": {
  "kernelspec": {
   "display_name": "Python 3",
   "language": "python",
   "name": "python3"
  },
  "language_info": {
   "codemirror_mode": {
    "name": "ipython",
    "version": 3
   },
   "file_extension": ".py",
   "mimetype": "text/x-python",
   "name": "python",
   "nbconvert_exporter": "python",
   "pygments_lexer": "ipython3",
   "version": "3.13.0"
  },
  "orig_nbformat": 4
 },
 "nbformat": 4,
 "nbformat_minor": 2
}
