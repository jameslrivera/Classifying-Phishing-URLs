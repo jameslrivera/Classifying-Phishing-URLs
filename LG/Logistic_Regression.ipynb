{
 "cells": [
  {
   "attachments": {},
   "cell_type": "markdown",
   "metadata": {},
   "source": [
    "# Logistic Regression"
   ]
  },
  {
   "attachments": {},
   "cell_type": "markdown",
   "metadata": {},
   "source": [
    "\n"
   ]
  },
  {
   "attachments": {},
   "cell_type": "markdown",
   "metadata": {},
   "source": [
    "### Importing libraries and dataset"
   ]
  },
  {
   "attachments": {},
   "cell_type": "markdown",
   "metadata": {},
   "source": [
    "### Preprocessing the data"
   ]
  },
  {
   "attachments": {},
   "cell_type": "markdown",
   "metadata": {},
   "source": [
    "### Splitting, training, & testing"
   ]
  },
  {
   "attachments": {},
   "cell_type": "markdown",
   "metadata": {},
   "source": [
    "### Saving metrics"
   ]
  },
  {
   "cell_type": "code",
   "execution_count": 1,
   "metadata": {},
   "outputs": [
    {
     "name": "stdout",
     "output_type": "stream",
     "text": [
      "Iteration 1: Accuracy = 0.7643, ROC AUC = 0.7499, F1 = 0.4641\n",
      "Iteration 2: Accuracy = 0.7649, ROC AUC = 0.7497, F1 = 0.4685\n",
      "Iteration 3: Accuracy = 0.7671, ROC AUC = 0.7507, F1 = 0.4693\n",
      "Iteration 4: Accuracy = 0.7642, ROC AUC = 0.7476, F1 = 0.4644\n",
      "Iteration 5: Accuracy = 0.7669, ROC AUC = 0.7485, F1 = 0.4655\n",
      "Iteration 6: Accuracy = 0.7672, ROC AUC = 0.7503, F1 = 0.4684\n",
      "Iteration 7: Accuracy = 0.7663, ROC AUC = 0.7495, F1 = 0.4649\n",
      "Iteration 8: Accuracy = 0.7669, ROC AUC = 0.7505, F1 = 0.4674\n",
      "Iteration 9: Accuracy = 0.7665, ROC AUC = 0.7499, F1 = 0.4659\n",
      "Iteration 10: Accuracy = 0.7677, ROC AUC = 0.7522, F1 = 0.4730\n",
      "Iteration 11: Accuracy = 0.7655, ROC AUC = 0.7503, F1 = 0.4660\n",
      "Iteration 12: Accuracy = 0.7678, ROC AUC = 0.7501, F1 = 0.4704\n",
      "Iteration 13: Accuracy = 0.7639, ROC AUC = 0.7484, F1 = 0.4620\n",
      "Iteration 14: Accuracy = 0.7652, ROC AUC = 0.7516, F1 = 0.4708\n",
      "Iteration 15: Accuracy = 0.7670, ROC AUC = 0.7509, F1 = 0.4706\n",
      "\n",
      "Metrics saved to shared results file: ../results.csv\n"
     ]
    }
   ],
   "source": [
    "import os\n",
    "import pandas as pd\n",
    "import numpy as np\n",
    "from sklearn.model_selection import train_test_split\n",
    "from sklearn.preprocessing import StandardScaler\n",
    "from sklearn.metrics import accuracy_score, roc_auc_score, f1_score\n",
    "from sklearn.linear_model import LogisticRegression\n",
    "import random\n",
    "\n",
    "# Load dataset\n",
    "df = pd.read_csv('phishing_site_urls.csv')\n",
    "urls = df['URL']\n",
    "labels = df['Label']\n",
    "\n",
    "# Map labels to binary values\n",
    "label_mapping = {'good': 0, 'bad': 1}\n",
    "y = labels.map(label_mapping).values\n",
    "\n",
    "# Feature extraction\n",
    "def extract_features(url):\n",
    "    features = {}\n",
    "    # Basic features\n",
    "    features['https'] = 1 if 'https' in url else 0\n",
    "    features['url_length'] = len(url)\n",
    "    features['special_char_length'] = sum(1 for char in url if char in '!@#$%^&*()-=')\n",
    "    # Additional features\n",
    "    features['num_dots'] = url.count('.')\n",
    "    features['num_slashes'] = url.count('/')\n",
    "   \n",
    "   \n",
    "    features['total_special_chars'] = sum(url.count(char) for char in '!@#$%^&*()-=')\n",
    "    # Domain type\n",
    "    features['common_domain'] = 1 if any(domain in url for domain in ['.com', '.org', '.net', '.me']) else 0\n",
    "    features['is_other_domain'] = 1 if not features['common_domain'] else 0\n",
    "    return features\n",
    "\n",
    "# Apply feature extraction\n",
    "features_df = pd.DataFrame([extract_features(url) for url in urls])\n",
    "\n",
    "# Add group-based features\n",
    "features_df['domain'] = urls.apply(lambda x: x.split('.')[-1])  # Extract domain suffix (e.g., 'com', 'org')\n",
    "features_df['feat1'] = features_df.groupby('domain')['url_length'].transform('mean')  # Mean of `url_length` by domain\n",
    "features_df['feat2'] = features_df['url_length'] - features_df['feat1']  # Deviation from mean\n",
    "\n",
    "# Prepare final feature matrix\n",
    "X = features_df[['https', 'url_length', 'special_char_length', 'num_dots', 'num_slashes',\n",
    "                 'total_special_chars', 'common_domain', 'is_other_domain', 'feat1', 'feat2']]\n",
    "\n",
    "# Scale features\n",
    "scaler = StandardScaler()\n",
    "X_scaled = scaler.fit_transform(X)\n",
    "\n",
    "# Initialize lists to store metrics\n",
    "accuracies = []\n",
    "roc_auc_scores = []\n",
    "f1_scores = []\n",
    "\n",
    "# Train and evaluate Logistic Regression model\n",
    "for i in range(15):\n",
    "    # Split data into training and testing sets\n",
    "    X_train, X_test, y_train, y_test = train_test_split(\n",
    "        X_scaled, y, test_size=0.2, random_state=random.randint(0, 1000)\n",
    "    )\n",
    "    \n",
    "    # Logistic regression with 'saga' solver\n",
    "    logreg = LogisticRegression(max_iter=1000, solver='saga', random_state=random.randint(0, 1000))\n",
    "    logreg.fit(X_train, y_train)\n",
    "    \n",
    "    # Predict on the test set\n",
    "    y_pred = logreg.predict(X_test)\n",
    "    y_pred_proba = logreg.predict_proba(X_test)[:, 1]  # Probability of the positive class\n",
    "    \n",
    "    # Calculate metrics\n",
    "    accuracy = accuracy_score(y_test, y_pred)\n",
    "    roc_auc = roc_auc_score(y_test, y_pred_proba)\n",
    "    f1 = f1_score(y_test, y_pred)\n",
    "    \n",
    "    # Append metrics to lists\n",
    "    accuracies.append(accuracy)\n",
    "    roc_auc_scores.append(roc_auc)\n",
    "    f1_scores.append(f1)\n",
    "    \n",
    "    print(f\"Iteration {i+1}: Accuracy = {accuracy:.4f}, ROC AUC = {roc_auc:.4f}, F1 = {f1:.4f}\")\n",
    "\n",
    "# Prepare results DataFrame for Logistic Regression\n",
    "results_df = pd.DataFrame({\n",
    "    'logreg_accuracy': accuracies,\n",
    "    'logreg_roc_auc': roc_auc_scores,\n",
    "    'logreg_f1_score': f1_scores\n",
    "})\n",
    "\n",
    "# Define the shared results file path\n",
    "shared_results_file = '../results.csv'\n",
    "\n",
    "# Save to shared results file\n",
    "if os.path.exists(shared_results_file):\n",
    "    # If the file exists, load it and append new results\n",
    "    existing_results = pd.read_csv(shared_results_file)\n",
    "    combined_results = pd.concat([existing_results, results_df.reset_index(drop=True)], axis=1)\n",
    "else:\n",
    "    # If the file doesn't exist, create it with the current results\n",
    "    combined_results = results_df\n",
    "\n",
    "# Save the combined results\n",
    "combined_results.to_csv(shared_results_file, index=False)\n",
    "\n",
    "print(f\"\\nMetrics saved to shared results file: {shared_results_file}\")\n"
   ]
  },
  {
   "cell_type": "code",
   "execution_count": null,
   "metadata": {},
   "outputs": [],
   "source": []
  }
 ],
 "metadata": {
  "kernelspec": {
   "display_name": "Python 3",
   "language": "python",
   "name": "python3"
  },
  "language_info": {
   "codemirror_mode": {
    "name": "ipython",
    "version": 3
   },
   "file_extension": ".py",
   "mimetype": "text/x-python",
   "name": "python",
   "nbconvert_exporter": "python",
   "pygments_lexer": "ipython3",
   "version": "3.13.0"
  },
  "orig_nbformat": 4
 },
 "nbformat": 4,
 "nbformat_minor": 2
}
