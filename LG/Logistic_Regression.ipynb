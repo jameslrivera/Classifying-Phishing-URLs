{
 "cells": [
  {
   "attachments": {},
   "cell_type": "markdown",
   "metadata": {},
   "source": [
    "# Logistic Regression"
   ]
  },
  {
   "attachments": {},
   "cell_type": "markdown",
   "metadata": {},
   "source": [
    "\n"
   ]
  },
  {
   "attachments": {},
   "cell_type": "markdown",
   "metadata": {},
   "source": [
    "### Importing libraries and dataset"
   ]
  },
  {
   "cell_type": "code",
   "execution_count": 8,
   "metadata": {},
   "outputs": [],
   "source": [
    "from sklearn.feature_extraction.text import CountVectorizer\n",
    "from sklearn.linear_model import LogisticRegression\n",
    "from sklearn.model_selection import train_test_split\n",
    "from sklearn.metrics import accuracy_score, roc_auc_score, f1_score\n",
    "from nltk.tokenize import RegexpTokenizer\n",
    "import pandas as pd\n",
    "import random\n",
    "\n",
    "# Read dataset\n",
    "df = pd.read_csv('phishing_site_urls.csv')\n",
    "urls = df['URL']\n",
    "labels = df['Label']\n"
   ]
  },
  {
   "attachments": {},
   "cell_type": "markdown",
   "metadata": {},
   "source": [
    "### Preprocessing the data"
   ]
  },
  {
   "cell_type": "code",
   "execution_count": 9,
   "metadata": {},
   "outputs": [],
   "source": [
    "\n",
    "# Map labels to binary values\n",
    "label_mapping = {'good': 1, 'bad': 0}\n",
    "y = labels.map(label_mapping).values\n",
    "\n",
    "# Tokenize and vectorize URLs\n",
    "tokenizer = RegexpTokenizer(r'\\w+')\n",
    "url_tokens = [' '.join(tokenizer.tokenize(url)) for url in urls]\n",
    "\n",
    "vectorizer = CountVectorizer()\n",
    "X = vectorizer.fit_transform(url_tokens)"
   ]
  },
  {
   "attachments": {},
   "cell_type": "markdown",
   "metadata": {},
   "source": [
    "### Splitting, training, & testing"
   ]
  },
  {
   "cell_type": "code",
   "execution_count": 10,
   "metadata": {},
   "outputs": [
    {
     "name": "stdout",
     "output_type": "stream",
     "text": [
      "Iteration 1: Accuracy = 0.9656, ROC AUC = 0.9939, F1 = 0.9763\n",
      "Iteration 2: Accuracy = 0.9668, ROC AUC = 0.9941, F1 = 0.9771\n",
      "Iteration 3: Accuracy = 0.9662, ROC AUC = 0.9942, F1 = 0.9767\n",
      "Iteration 4: Accuracy = 0.9670, ROC AUC = 0.9943, F1 = 0.9773\n",
      "Iteration 5: Accuracy = 0.9655, ROC AUC = 0.9939, F1 = 0.9763\n",
      "Iteration 6: Accuracy = 0.9656, ROC AUC = 0.9943, F1 = 0.9762\n",
      "Iteration 7: Accuracy = 0.9660, ROC AUC = 0.9939, F1 = 0.9765\n",
      "Iteration 8: Accuracy = 0.9663, ROC AUC = 0.9940, F1 = 0.9768\n",
      "Iteration 9: Accuracy = 0.9660, ROC AUC = 0.9941, F1 = 0.9766\n",
      "Iteration 10: Accuracy = 0.9658, ROC AUC = 0.9939, F1 = 0.9764\n",
      "Iteration 11: Accuracy = 0.9656, ROC AUC = 0.9940, F1 = 0.9763\n",
      "Iteration 12: Accuracy = 0.9657, ROC AUC = 0.9940, F1 = 0.9764\n",
      "Iteration 13: Accuracy = 0.9662, ROC AUC = 0.9942, F1 = 0.9767\n",
      "Iteration 14: Accuracy = 0.9657, ROC AUC = 0.9934, F1 = 0.9764\n",
      "Iteration 15: Accuracy = 0.9653, ROC AUC = 0.9939, F1 = 0.9760\n"
     ]
    }
   ],
   "source": [
    "\n",
    "# Lists to store metrics\n",
    "accuracies = []\n",
    "roc_auc_scores = []\n",
    "f1_scores = []\n",
    "\n",
    "# Train and evaluate 15 logistic regression models\n",
    "for i in range(15):\n",
    "    # Split data into training and testing sets\n",
    "    X_train, X_test, y_train, y_test = train_test_split(\n",
    "        X, y, test_size=0.2, random_state=random.randint(0, 1000)\n",
    "    )\n",
    "    \n",
    "    # Initialize and train logistic regression model\n",
    "    logreg = LogisticRegression(max_iter=1000, random_state=random.randint(0, 1000))\n",
    "    logreg.fit(X_train, y_train)\n",
    "    \n",
    "    # Predict on the test set\n",
    "    y_pred = logreg.predict(X_test)\n",
    "    y_pred_proba = logreg.predict_proba(X_test)[:, 1]\n",
    "    \n",
    "    # Calculate metrics\n",
    "    accuracy = accuracy_score(y_test, y_pred)\n",
    "    roc_auc = roc_auc_score(y_test, y_pred_proba)\n",
    "    f1 = f1_score(y_test, y_pred)\n",
    "    \n",
    "    # Append metrics to lists\n",
    "    accuracies.append(accuracy)\n",
    "    roc_auc_scores.append(roc_auc)\n",
    "    f1_scores.append(f1)\n",
    "    \n",
    "    print(f\"Iteration {i+1}: Accuracy = {accuracy:.4f}, ROC AUC = {roc_auc:.4f}, F1 = {f1:.4f}\")\n"
   ]
  },
  {
   "attachments": {},
   "cell_type": "markdown",
   "metadata": {},
   "source": [
    "### Saving Metrics"
   ]
  },
  {
   "cell_type": "code",
   "execution_count": 11,
   "metadata": {},
   "outputs": [
    {
     "name": "stdout",
     "output_type": "stream",
     "text": [
      "\n",
      "Metrics saved to 'LogReg_accuracies.csv', 'LogReg_roc_auc.csv', and 'LogReg_f1_scores.csv'\n"
     ]
    }
   ],
   "source": [
    "\n",
    "# Save metrics to separate CSV files\n",
    "pd.DataFrame({'accuracy': accuracies}).to_csv('LogReg_accuracies.csv', index=False)\n",
    "pd.DataFrame({'roc_auc': roc_auc_scores}).to_csv('LogReg_roc_auc.csv', index=False)\n",
    "pd.DataFrame({'f1_score': f1_scores}).to_csv('LogReg_f1_scores.csv', index=False)\n",
    "\n",
    "print(\"\\nMetrics saved to 'LogReg_accuracies.csv', 'LogReg_roc_auc.csv', and 'LogReg_f1_scores.csv'\")\n"
   ]
  }
 ],
 "metadata": {
  "kernelspec": {
   "display_name": "Python 3",
   "language": "python",
   "name": "python3"
  },
  "language_info": {
   "codemirror_mode": {
    "name": "ipython",
    "version": 3
   },
   "file_extension": ".py",
   "mimetype": "text/x-python",
   "name": "python",
   "nbconvert_exporter": "python",
   "pygments_lexer": "ipython3",
   "version": "3.8.8"
  },
  "orig_nbformat": 4
 },
 "nbformat": 4,
 "nbformat_minor": 2
}
