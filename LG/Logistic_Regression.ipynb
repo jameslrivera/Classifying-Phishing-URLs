{
 "cells": [
  {
   "attachments": {},
   "cell_type": "markdown",
   "metadata": {},
   "source": [
    "# Logistic Regression"
   ]
  },
  {
   "attachments": {},
   "cell_type": "markdown",
   "metadata": {},
   "source": [
    "\n"
   ]
  },
  {
   "attachments": {},
   "cell_type": "markdown",
   "metadata": {},
   "source": [
    "### Importing libraries and dataset"
   ]
  },
  {
   "cell_type": "code",
   "execution_count": 20,
   "metadata": {},
   "outputs": [],
   "source": [
    "import pandas as pd\n",
    "import numpy as np\n",
    "from sklearn.model_selection import train_test_split\n",
    "from sklearn.metrics import accuracy_score, roc_auc_score, f1_score\n",
    "from sklearn.linear_model import LogisticRegression\n",
    "from sklearn.preprocessing import StandardScaler\n",
    "import random\n",
    "\n",
    "# Read dataset\n",
    "df = pd.read_csv('phishing_site_urls.csv')\n",
    "urls = df['URL']\n",
    "labels = df['Label']\n"
   ]
  },
  {
   "attachments": {},
   "cell_type": "markdown",
   "metadata": {},
   "source": [
    "### Preprocessing the data"
   ]
  },
  {
   "cell_type": "code",
   "execution_count": 21,
   "metadata": {},
   "outputs": [],
   "source": [
    "# Map labels to binary values\n",
    "label_mapping = {'good': 0, 'bad': 1}\n",
    "y = labels.map(label_mapping).values\n",
    "\n",
    "# Feature extraction\n",
    "def extract_features(url):\n",
    "    features = {}\n",
    "    # Basic features\n",
    "    features['https'] = 1 if 'https' in url else 0\n",
    "    features['url_length'] = len(url)\n",
    "    features['special_char_length'] = sum(1 for char in url if char in '!@#$%^&*()-=')\n",
    "    # Special character counts\n",
    "    features['num_$'] = url.count('$')\n",
    "    features['num_!'] = url.count('!')\n",
    "    features['num_@'] = url.count('@')\n",
    "    features['num_#'] = url.count('#')\n",
    "    features['num_%'] = url.count('%')\n",
    "    features['num_^'] = url.count('^')\n",
    "    features['num_&'] = url.count('&')\n",
    "    features['num_*'] = url.count('*')\n",
    "    features['num_('] = url.count('(')\n",
    "    features['num_)'] = url.count(')')\n",
    "    features['num_-'] = url.count('-')\n",
    "    features['num_='] = url.count('=')\n",
    "    features['num_~'] = url.count('~')\n",
    "    features['num_.'] = url.count('.')\n",
    "    features['num_/'] = url.count('/')\n",
    "    # Domain type\n",
    "    features['is_com'] = 1 if '.com' in url else 0\n",
    "    features['is_org'] = 1 if '.org' in url else 0\n",
    "    features['is_net'] = 1 if '.net' in url else 0\n",
    "    features['is_me'] = 1 if '.me' in url else 0\n",
    "    features['is_gov'] = 1 if '.gov' in url else 0\n",
    "    features['is_other_domain'] = 1 if all(domain not in url for domain in ['.com', '.org', '.net', '.me', '.gov']) else 0\n",
    "    return features\n",
    "\n",
    "# Apply feature extraction to all URLs\n",
    "X = pd.DataFrame([extract_features(url) for url in urls])\n",
    "scaler = StandardScaler()\n",
    "X_scaled = scaler.fit_transform(X) \n"
   ]
  },
  {
   "attachments": {},
   "cell_type": "markdown",
   "metadata": {},
   "source": [
    "### Splitting, training, & testing"
   ]
  },
  {
   "cell_type": "code",
   "execution_count": 22,
   "metadata": {},
   "outputs": [
    {
     "name": "stdout",
     "output_type": "stream",
     "text": [
      "Iteration 1: Accuracy = 0.7804, ROC AUC = 0.7874, F1 = 0.5268\n",
      "Iteration 2: Accuracy = 0.7813, ROC AUC = 0.7862, F1 = 0.5260\n",
      "Iteration 3: Accuracy = 0.7797, ROC AUC = 0.7893, F1 = 0.5244\n"
     ]
    }
   ],
   "source": [
    "\n",
    "# Initialize a dictionary to store results\n",
    "results = {\n",
    "    'logreg_accuracy': [],\n",
    "    'logreg_roc_auc': [],\n",
    "    'logreg_f1_score': []\n",
    "}\n",
    "\n",
    "# Train and evaluate 15 logistic regression models\n",
    "for i in range(15):\n",
    "    # Split data into training and testing sets\n",
    "    X_train, X_test, y_train, y_test = train_test_split(\n",
    "        X_scaled, y, test_size=0.2, random_state=random.randint(0, 1000)\n",
    "    )\n",
    "    \n",
    "    # Train logistic regression model\n",
    "    logreg = LogisticRegression(max_iter=1000, solver='saga', random_state=random.randint(0, 1000))\n",
    "    logreg.fit(X_train, y_train)\n",
    "    \n",
    "    # Predict on the test set\n",
    "    y_pred = logreg.predict(X_test)\n",
    "    y_pred_proba = logreg.predict_proba(X_test)[:, 1]  # Probability of the positive class\n",
    "    \n",
    "    # Calculate metrics\n",
    "    accuracy = accuracy_score(y_test, y_pred)\n",
    "    roc_auc = roc_auc_score(y_test, y_pred_proba)\n",
    "    f1 = f1_score(y_test, y_pred)\n",
    "    \n",
    "    # Append metrics to results\n",
    "    results['logreg_accuracy'].append(accuracy)\n",
    "    results['logreg_roc_auc'].append(roc_auc)\n",
    "    results['logreg_f1_score'].append(f1)\n",
    "    \n",
    "    print(f\"Iteration {i+1}: Accuracy = {accuracy:.4f}, ROC AUC = {roc_auc:.4f}, F1 = {f1:.4f}\")\n",
    "\n"
   ]
  },
  {
   "attachments": {},
   "cell_type": "markdown",
   "metadata": {},
   "source": [
    "### Saving metrics"
   ]
  },
  {
   "cell_type": "code",
   "execution_count": null,
   "metadata": {},
   "outputs": [],
   "source": [
    "# Convert results to a DataFrame\n",
    "results_df = pd.DataFrame(results)\n",
    "\n",
    "# Save results to a CSV file\n",
    "results_df.to_csv('../results.csv', index=False)\n",
    "\n",
    "print(\"\\nMetrics saved to 'results.csv'\")\n"
   ]
  }
 ],
 "metadata": {
  "kernelspec": {
   "display_name": "Python 3",
   "language": "python",
   "name": "python3"
  },
  "language_info": {
   "codemirror_mode": {
    "name": "ipython",
    "version": 3
   },
   "file_extension": ".py",
   "mimetype": "text/x-python",
   "name": "python",
   "nbconvert_exporter": "python",
   "pygments_lexer": "ipython3",
   "version": "3.8.8"
  },
  "orig_nbformat": 4
 },
 "nbformat": 4,
 "nbformat_minor": 2
}
