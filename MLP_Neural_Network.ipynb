{
 "cells": [
  {
   "attachments": {},
   "cell_type": "markdown",
   "metadata": {},
   "source": [
    "# Multi-Layer Perceptron Neural Network"
   ]
  },
  {
   "attachments": {},
   "cell_type": "markdown",
   "metadata": {},
   "source": [
    "### Import libraries and data"
   ]
  },
  {
   "cell_type": "code",
   "execution_count": null,
   "metadata": {},
   "outputs": [],
   "source": [
    "import os\n",
    "import pandas as pd\n",
    "import numpy as np\n",
    "from sklearn.model_selection import train_test_split\n",
    "from sklearn.preprocessing import StandardScaler\n",
    "from sklearn.metrics import accuracy_score, roc_auc_score, f1_score\n",
    "import torch\n",
    "import torch.nn as nn\n",
    "import torch.optim as optim\n",
    "from torch.utils.data import DataLoader, TensorDataset\n",
    "import random\n",
    "\n",
    "# Load dataset\n",
    "df = pd.read_csv('phishing_site_urls.csv')\n",
    "urls = df['URL']\n",
    "labels = df['Label']\n"
   ]
  },
  {
   "attachments": {},
   "cell_type": "markdown",
   "metadata": {},
   "source": [
    "### Preprocessing data"
   ]
  },
  {
   "cell_type": "code",
   "execution_count": null,
   "metadata": {},
   "outputs": [],
   "source": [
    "label_mapping = {'good': 0, 'bad': 1}\n",
    "y = labels.map(label_mapping).values\n",
    "\n",
    "def extract_features(url):\n",
    "    features = {}\n",
    "    features['https'] = 1 if 'https' in url else 0\n",
    "    features['url_length'] = len(url)\n",
    "    features['special_char_length'] = sum(1 for char in url if char in '!@#$%^&*()-=')\n",
    "    features['num_dots'] = url.count('.')\n",
    "    features['num_slashes'] = url.count('/')\n",
    "    features['total_special_chars'] = sum(url.count(char) for char in '!@#$%^&*()-=')\n",
    "    features['common_domain'] = 1 if any(domain in url for domain in ['.com', '.org', '.net', '.me']) else 0\n",
    "    features['is_other_domain'] = 1 if not features['common_domain'] else 0\n",
    "    return features\n",
    "\n",
    "features_df = pd.DataFrame([extract_features(url) for url in urls])\n",
    "\n",
    "# Add group based features\n",
    "features_df['domain'] = urls.apply(lambda x: x.split('.')[-1]) \n",
    "features_df['feat1'] = features_df.groupby('domain')['url_length'].transform('mean')  \n",
    "features_df['feat2'] = features_df['url_length'] - features_df['feat1']  \n",
    "\n",
    "X = features_df[['https', 'url_length', 'special_char_length', 'num_dots', 'num_slashes', \n",
    "                 'total_special_chars', 'common_domain', 'is_other_domain', 'feat1', 'feat2']]\n",
    "\n",
    "# Scale features\n",
    "scaler = StandardScaler()\n",
    "X_scaled = scaler.fit_transform(X)\n",
    "\n",
    "X_tensor = torch.tensor(X_scaled, dtype=torch.float32)\n",
    "y_tensor = torch.tensor(y, dtype=torch.float32)\n"
   ]
  },
  {
   "attachments": {},
   "cell_type": "markdown",
   "metadata": {},
   "source": [
    "### Splitting, training, and testing"
   ]
  },
  {
   "cell_type": "code",
   "execution_count": null,
   "metadata": {},
   "outputs": [],
   "source": [
    "# Initialize lists to store metrics\n",
    "accuracies = []\n",
    "roc_auc_scores = []\n",
    "f1_scores = []\n",
    "\n",
    "# Define MLP model \n",
    "class MLPModel(nn.Module):\n",
    "    def __init__(self, input_dim):\n",
    "        super(MLPModel, self).__init__()\n",
    "        self.fc1 = nn.Linear(input_dim, 10)  \n",
    "        self.fc2 = nn.Linear(10, 10)        \n",
    "        self.fc3 = nn.Linear(10, 1)         \n",
    "        self.relu = nn.ReLU()\n",
    "        self.sigmoid = nn.Sigmoid()\n",
    "    \n",
    "    def forward(self, x):\n",
    "        x = self.relu(self.fc1(x))\n",
    "        x = self.relu(self.fc2(x))\n",
    "        x = self.sigmoid(self.fc3(x))\n",
    "        return x\n",
    "\n",
    "# Spliting, training, and testing\n",
    "for i in range(15):\n",
    "    X_train, X_test, y_train, y_test = train_test_split(\n",
    "        X_tensor, y_tensor, test_size=0.2, random_state=random.randint(0, 1000)\n",
    "    )\n",
    "    \n",
    "    train_data = TensorDataset(X_train, y_train)\n",
    "    test_data = TensorDataset(X_test, y_test)\n",
    "    train_loader = DataLoader(train_data, batch_size=16, shuffle=True)\n",
    "    test_loader = DataLoader(test_data, batch_size=16, shuffle=False)\n",
    "    \n",
    "    # Initialize model, loss function, and optimizer\n",
    "    model = MLPModel(input_dim=X_train.shape[1])\n",
    "    criterion = nn.BCELoss()  # Binary cross-entropy loss\n",
    "    optimizer = optim.Adam(model.parameters(), lr=0.01)\n",
    "    \n",
    "    # Training\n",
    "    for epoch in range(5):\n",
    "        model.train()\n",
    "        for batch_X, batch_y in train_loader:\n",
    "            optimizer.zero_grad()\n",
    "            y_pred = model(batch_X).squeeze()\n",
    "            loss = criterion(y_pred, batch_y)\n",
    "            loss.backward()\n",
    "            optimizer.step()\n",
    "    \n",
    "    # Testing\n",
    "    model.eval()\n",
    "    y_pred_proba = []\n",
    "    y_true = []\n",
    "    with torch.no_grad():\n",
    "        for batch_X, batch_y in test_loader:\n",
    "            y_pred = model(batch_X).squeeze()\n",
    "            y_pred_proba.extend(y_pred.tolist())\n",
    "            y_true.extend(batch_y.tolist())\n",
    "    \n",
    "    y_pred_binary = [1 if prob > 0.5 else 0 for prob in y_pred_proba]\n",
    "    \n",
    "    # Calculate results\n",
    "    accuracy = accuracy_score(y_true, y_pred_binary)\n",
    "    roc_auc = roc_auc_score(y_true, y_pred_proba)\n",
    "    f1 = f1_score(y_true, y_pred_binary)\n",
    "    \n",
    "    # Safve results\n",
    "    accuracies.append(accuracy)\n",
    "    roc_auc_scores.append(roc_auc)\n",
    "    f1_scores.append(f1)\n",
    "    \n",
    "    print(f\"Iteration {i+1}: Accuracy = {accuracy:.4f}, ROC AUC = {roc_auc:.4f}, F1 = {f1:.4f}\")\n",
    "\n"
   ]
  },
  {
   "attachments": {},
   "cell_type": "markdown",
   "metadata": {},
   "source": [
    "### Saving results"
   ]
  },
  {
   "cell_type": "code",
   "execution_count": null,
   "metadata": {},
   "outputs": [],
   "source": [
    "results_df = pd.DataFrame({\n",
    "    'mlp_accuracy': accuracies,\n",
    "    'mlp_roc_auc': roc_auc_scores,\n",
    "    'mlp_f1_score': f1_scores\n",
    "})\n",
    "\n",
    "\n",
    "shared_results_file = './results.csv'\n",
    "\n",
    "# Save results to shared folder\n",
    "if os.path.exists(shared_results_file):\n",
    "    existing_results = pd.read_csv(shared_results_file)\n",
    "    combined_results = pd.concat([existing_results, results_df.reset_index(drop=True)], axis=1)\n",
    "else:\n",
    "    combined_results = results_df\n",
    "\n",
    "combined_results.to_csv(shared_results_file, index=False)\n",
    "\n",
    "print(f\"\\nMetrics saved to shared results file: {shared_results_file}\")\n"
   ]
  }
 ],
 "metadata": {
  "kernelspec": {
   "display_name": "base",
   "language": "python",
   "name": "python3"
  },
  "language_info": {
   "codemirror_mode": {
    "name": "ipython",
    "version": 3
   },
   "file_extension": ".py",
   "mimetype": "text/x-python",
   "name": "python",
   "nbconvert_exporter": "python",
   "pygments_lexer": "ipython3",
   "version": "3.13.0"
  },
  "orig_nbformat": 4
 },
 "nbformat": 4,
 "nbformat_minor": 2
}
